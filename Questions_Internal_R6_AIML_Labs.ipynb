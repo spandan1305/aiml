{
  "nbformat": 4,
  "nbformat_minor": 0,
  "metadata": {
    "colab": {
      "name": "Questions - Internal - R6 - AIML Labs.ipynb",
      "provenance": [],
      "collapsed_sections": []
    },
    "kernelspec": {
      "name": "python3",
      "display_name": "Python 3"
    }
  },
  "cells": [
    {
      "cell_type": "markdown",
      "metadata": {
        "id": "zUZjPnVXGz0Z",
        "colab_type": "text"
      },
      "source": [
        "# The Iris Dataset\n",
        "The data set consists of 50 samples from each of three species of Iris (Iris setosa, Iris virginica and Iris versicolor). Four features were measured from each sample: the length and the width of the sepals and petals, in centimeters.\n",
        "\n",
        "The dataset contains a set of 150 records under five attributes - petal length, petal width, sepal length, sepal width and species."
      ]
    },
    {
      "cell_type": "markdown",
      "metadata": {
        "id": "RMbmpriavLE9",
        "colab_type": "text"
      },
      "source": [
        "### Specifying the TensorFlow version\n",
        "Running `import tensorflow` will import the default version (currently 1.x). You can use 2.x by running a cell with the `tensorflow_version` magic **before** you run `import tensorflow`."
      ]
    },
    {
      "cell_type": "code",
      "metadata": {
        "colab_type": "code",
        "id": "fu8bUU__oa7h",
        "colab": {
          "base_uri": "https://localhost:8080/",
          "height": 34
        },
        "outputId": "82218a7c-d882-41e1-a4fc-e99d392c77ce"
      },
      "source": [
        "%tensorflow_version 2.x"
      ],
      "execution_count": 1,
      "outputs": [
        {
          "output_type": "stream",
          "text": [
            "TensorFlow 2.x selected.\n"
          ],
          "name": "stdout"
        }
      ]
    },
    {
      "cell_type": "markdown",
      "metadata": {
        "colab_type": "text",
        "id": "bLz1Ckvfvn6D"
      },
      "source": [
        "### Import TensorFlow\n",
        "Once you have specified a version via this magic, you can run `import tensorflow` as normal and verify which version was imported as follows:"
      ]
    },
    {
      "cell_type": "code",
      "metadata": {
        "colab_type": "code",
        "id": "CWrzVTLOvn6M",
        "colab": {
          "base_uri": "https://localhost:8080/",
          "height": 34
        },
        "outputId": "6e16de04-9cf1-40ed-9b73-888535e7f846"
      },
      "source": [
        "import tensorflow as tf\n",
        "print(tf.__version__)"
      ],
      "execution_count": 2,
      "outputs": [
        {
          "output_type": "stream",
          "text": [
            "2.0.0-rc2\n"
          ],
          "name": "stdout"
        }
      ]
    },
    {
      "cell_type": "markdown",
      "metadata": {
        "id": "_uYeJgkNuXNC",
        "colab_type": "text"
      },
      "source": [
        "### Set random seed"
      ]
    },
    {
      "cell_type": "code",
      "metadata": {
        "id": "lcASNsewsfQX",
        "colab_type": "code",
        "colab": {}
      },
      "source": [
        "tf.random.set_seed(42)"
      ],
      "execution_count": 0,
      "outputs": []
    },
    {
      "cell_type": "markdown",
      "metadata": {
        "id": "5-vVQBBqg7DI",
        "colab_type": "text"
      },
      "source": [
        "## Question 1"
      ]
    },
    {
      "cell_type": "markdown",
      "metadata": {
        "id": "kE0EDKvQhEIe",
        "colab_type": "text"
      },
      "source": [
        "### Import dataset\n",
        "- Import iris dataset\n",
        "- Import the dataset using sklearn library"
      ]
    },
    {
      "cell_type": "code",
      "metadata": {
        "id": "IOOWpD26Haq3",
        "colab_type": "code",
        "colab": {}
      },
      "source": [
        "from sklearn import datasets\n",
        "import pandas as pd\n",
        "df_iris = datasets.load_iris()"
      ],
      "execution_count": 0,
      "outputs": []
    },
    {
      "cell_type": "markdown",
      "metadata": {
        "id": "ta8YqInTh5v5",
        "colab_type": "text"
      },
      "source": [
        "## Question 2"
      ]
    },
    {
      "cell_type": "markdown",
      "metadata": {
        "id": "HERt3drbhX0i",
        "colab_type": "text"
      },
      "source": [
        "### Get features and label from the dataset in separate variable\n",
        "- you can get the features using .data method\n",
        "- you can get the features using .target method"
      ]
    },
    {
      "cell_type": "code",
      "metadata": {
        "id": "0cV-_qHAHyvE",
        "colab_type": "code",
        "colab": {}
      },
      "source": [
        "df_iris_x = df_iris.data\n",
        "df_iris_y = df_iris.target"
      ],
      "execution_count": 0,
      "outputs": []
    },
    {
      "cell_type": "code",
      "metadata": {
        "id": "y2uzZx1ygVQi",
        "colab_type": "code",
        "colab": {
          "base_uri": "https://localhost:8080/",
          "height": 34
        },
        "outputId": "4bfb1ebf-60d8-422a-ca55-6d575d7a908e"
      },
      "source": [
        "df_iris_x.shape"
      ],
      "execution_count": 16,
      "outputs": [
        {
          "output_type": "execute_result",
          "data": {
            "text/plain": [
              "(150, 4)"
            ]
          },
          "metadata": {
            "tags": []
          },
          "execution_count": 16
        }
      ]
    },
    {
      "cell_type": "code",
      "metadata": {
        "id": "8NlZ-gqGgYhU",
        "colab_type": "code",
        "colab": {
          "base_uri": "https://localhost:8080/",
          "height": 34
        },
        "outputId": "28e20287-e1e6-4a45-d9e9-dd7f2ca52208"
      },
      "source": [
        "df_iris_y.shape"
      ],
      "execution_count": 17,
      "outputs": [
        {
          "output_type": "execute_result",
          "data": {
            "text/plain": [
              "(150,)"
            ]
          },
          "metadata": {
            "tags": []
          },
          "execution_count": 17
        }
      ]
    },
    {
      "cell_type": "markdown",
      "metadata": {
        "id": "Qg1A2lkUjFak",
        "colab_type": "text"
      },
      "source": [
        "## Question 3"
      ]
    },
    {
      "cell_type": "markdown",
      "metadata": {
        "colab_type": "text",
        "id": "3YErwYLCH0N_"
      },
      "source": [
        "### Create train and test data\n",
        "- use train_test_split to get train and test set\n",
        "- set a random_state\n",
        "- test_size: 0.25"
      ]
    },
    {
      "cell_type": "code",
      "metadata": {
        "id": "TYKNJL85h7pQ",
        "colab_type": "code",
        "colab": {}
      },
      "source": [
        "from sklearn.model_selection import train_test_split\n",
        "X_train, X_test, y_train, y_test = train_test_split(df_iris_x,df_iris_y, test_size=.25)"
      ],
      "execution_count": 0,
      "outputs": []
    },
    {
      "cell_type": "code",
      "metadata": {
        "id": "WIJiQLRThcGl",
        "colab_type": "code",
        "colab": {}
      },
      "source": [
        "import numpy as np\n",
        "X_train = np.array(X_train).astype(np.float32)\n",
        "X_test  = np.array(X_test).astype(np.float32)\n",
        "y_train = np.array(y_train).astype(np.float32)\n",
        "y_test  = np.array(y_test).astype(np.float32)"
      ],
      "execution_count": 0,
      "outputs": []
    },
    {
      "cell_type": "code",
      "metadata": {
        "id": "-ePozaPqhm6c",
        "colab_type": "code",
        "colab": {
          "base_uri": "https://localhost:8080/",
          "height": 51
        },
        "outputId": "043b3a30-6182-4899-e83d-56bec56f2a43"
      },
      "source": [
        "print(X_train.shape, y_train.shape)\n",
        "print(X_test.shape, y_test.shape)"
      ],
      "execution_count": 45,
      "outputs": [
        {
          "output_type": "stream",
          "text": [
            "(112, 4) (112,)\n",
            "(38, 4) (38,)\n"
          ],
          "name": "stdout"
        }
      ]
    },
    {
      "cell_type": "markdown",
      "metadata": {
        "id": "g0KVP17Ozaix",
        "colab_type": "text"
      },
      "source": [
        "## Question 4"
      ]
    },
    {
      "cell_type": "markdown",
      "metadata": {
        "id": "SIjqxbhWv1zv",
        "colab_type": "text"
      },
      "source": [
        "### One-hot encode the labels\n",
        "- convert class vectors (integers) to binary class matrix\n",
        "- convert labels\n",
        "- number of classes: 3\n",
        "- we are doing this to use categorical_crossentropy as loss"
      ]
    },
    {
      "cell_type": "code",
      "metadata": {
        "colab_type": "code",
        "id": "R9vv-_gpyLY9",
        "colab": {
          "base_uri": "https://localhost:8080/",
          "height": 34
        },
        "outputId": "966cbc70-c10a-4140-ee82-43551dda6665"
      },
      "source": [
        "from keras.utils import to_categorical\n",
        "y_train_enc = to_categorical(y_train, num_classes=3)\n",
        "y_test_enc = to_categorical(y_test, num_classes=3)\n",
        "print(y_train_enc.shape, y_test_enc.shape)"
      ],
      "execution_count": 46,
      "outputs": [
        {
          "output_type": "stream",
          "text": [
            "(112, 3) (38, 3)\n"
          ],
          "name": "stdout"
        }
      ]
    },
    {
      "cell_type": "markdown",
      "metadata": {
        "colab_type": "text",
        "id": "ovjLyYzWkO9s"
      },
      "source": [
        "## Question 5"
      ]
    },
    {
      "cell_type": "markdown",
      "metadata": {
        "id": "hbIFzoPNSyYo",
        "colab_type": "text"
      },
      "source": [
        "### Initialize a sequential model\n",
        "- Define a sequential model"
      ]
    },
    {
      "cell_type": "code",
      "metadata": {
        "id": "4FvSbf1UjHtl",
        "colab_type": "code",
        "colab": {}
      },
      "source": [
        "model = tf.keras.models.Sequential()"
      ],
      "execution_count": 0,
      "outputs": []
    },
    {
      "cell_type": "markdown",
      "metadata": {
        "colab_type": "text",
        "id": "dGMy999vlacX"
      },
      "source": [
        "## Question 6"
      ]
    },
    {
      "cell_type": "markdown",
      "metadata": {
        "id": "72ibK5Jxm8iL",
        "colab_type": "text"
      },
      "source": [
        "### Add a layer\n",
        "- Use Dense Layer  with input shape of 4 (according to the feature set) and number of outputs set to 3\n",
        "- Apply Softmax on Dense Layer outputs"
      ]
    },
    {
      "cell_type": "code",
      "metadata": {
        "id": "uZKrBNSRm_o9",
        "colab_type": "code",
        "colab": {}
      },
      "source": [
        "model.add(tf.keras.layers.Dense(3, input_shape=(4,)))\n",
        "model.add(tf.keras.layers.Dense(3, activation='softmax'))"
      ],
      "execution_count": 0,
      "outputs": []
    },
    {
      "cell_type": "markdown",
      "metadata": {
        "id": "i4uiTH8plmNX",
        "colab_type": "text"
      },
      "source": [
        "## Question 7"
      ]
    },
    {
      "cell_type": "markdown",
      "metadata": {
        "id": "yJL8n8vcSyYz",
        "colab_type": "text"
      },
      "source": [
        "### Compile the model\n",
        "- Use SGD as Optimizer\n",
        "- Use categorical_crossentropy as loss function\n",
        "- Use accuracy as metrics"
      ]
    },
    {
      "cell_type": "code",
      "metadata": {
        "id": "Tc_-fjIEk1ve",
        "colab_type": "code",
        "colab": {}
      },
      "source": [
        "model.compile(optimizer='sgd', loss='categorical_crossentropy', metrics=['accuracy'])"
      ],
      "execution_count": 0,
      "outputs": []
    },
    {
      "cell_type": "markdown",
      "metadata": {
        "colab_type": "text",
        "id": "sihIGbRll_jT"
      },
      "source": [
        "## Question 8"
      ]
    },
    {
      "cell_type": "markdown",
      "metadata": {
        "id": "54ZZCfNGlu0i",
        "colab_type": "text"
      },
      "source": [
        "### Summarize the model\n",
        "- Check model layers\n",
        "- Understand number of trainable parameters"
      ]
    },
    {
      "cell_type": "code",
      "metadata": {
        "id": "elER3F_4ln8n",
        "colab_type": "code",
        "colab": {
          "base_uri": "https://localhost:8080/",
          "height": 221
        },
        "outputId": "b4562b09-a162-465d-d171-a085a309d701"
      },
      "source": [
        "model.summary()"
      ],
      "execution_count": 70,
      "outputs": [
        {
          "output_type": "stream",
          "text": [
            "Model: \"sequential_5\"\n",
            "_________________________________________________________________\n",
            "Layer (type)                 Output Shape              Param #   \n",
            "=================================================================\n",
            "dense_13 (Dense)             (None, 3)                 15        \n",
            "_________________________________________________________________\n",
            "dense_14 (Dense)             (None, 3)                 12        \n",
            "=================================================================\n",
            "Total params: 27\n",
            "Trainable params: 27\n",
            "Non-trainable params: 0\n",
            "_________________________________________________________________\n"
          ],
          "name": "stdout"
        }
      ]
    },
    {
      "cell_type": "markdown",
      "metadata": {
        "colab_type": "text",
        "id": "2PiP7j3Vmj4p"
      },
      "source": [
        "## Question 9"
      ]
    },
    {
      "cell_type": "markdown",
      "metadata": {
        "id": "rWdbfFCXmCHt",
        "colab_type": "text"
      },
      "source": [
        "### Fit the model\n",
        "- Give train data as training features and labels\n",
        "- Epochs: 100\n",
        "- Give validation data as testing features and labels"
      ]
    },
    {
      "cell_type": "code",
      "metadata": {
        "id": "cO1c-5tjmBVZ",
        "colab_type": "code",
        "colab": {
          "base_uri": "https://localhost:8080/",
          "height": 1000
        },
        "outputId": "ba4dd3c4-5d11-4bcc-e820-4b7d251a14f1"
      },
      "source": [
        "model.fit(X_train, y_train_enc, validation_data=(X_test, y_test_enc), epochs=100)"
      ],
      "execution_count": 71,
      "outputs": [
        {
          "output_type": "stream",
          "text": [
            "Train on 112 samples, validate on 38 samples\n",
            "Epoch 1/100\n",
            "112/112 [==============================] - 0s 3ms/sample - loss: 2.5302 - accuracy: 0.2768 - val_loss: 1.3533 - val_accuracy: 0.5000\n",
            "Epoch 2/100\n",
            "112/112 [==============================] - 0s 185us/sample - loss: 1.6983 - accuracy: 0.2768 - val_loss: 1.2414 - val_accuracy: 0.5000\n",
            "Epoch 3/100\n",
            "112/112 [==============================] - 0s 170us/sample - loss: 1.4497 - accuracy: 0.2768 - val_loss: 1.2307 - val_accuracy: 0.5000\n",
            "Epoch 4/100\n",
            "112/112 [==============================] - 0s 168us/sample - loss: 1.3287 - accuracy: 0.2857 - val_loss: 1.1738 - val_accuracy: 0.4737\n",
            "Epoch 5/100\n",
            "112/112 [==============================] - 0s 180us/sample - loss: 1.2466 - accuracy: 0.3125 - val_loss: 1.1502 - val_accuracy: 0.4211\n",
            "Epoch 6/100\n",
            "112/112 [==============================] - 0s 198us/sample - loss: 1.1751 - accuracy: 0.3036 - val_loss: 1.0888 - val_accuracy: 0.3947\n",
            "Epoch 7/100\n",
            "112/112 [==============================] - 0s 183us/sample - loss: 1.1125 - accuracy: 0.3125 - val_loss: 1.0614 - val_accuracy: 0.3684\n",
            "Epoch 8/100\n",
            "112/112 [==============================] - 0s 196us/sample - loss: 1.0626 - accuracy: 0.3036 - val_loss: 1.0292 - val_accuracy: 0.3684\n",
            "Epoch 9/100\n",
            "112/112 [==============================] - 0s 197us/sample - loss: 1.0252 - accuracy: 0.3125 - val_loss: 1.0021 - val_accuracy: 0.3421\n",
            "Epoch 10/100\n",
            "112/112 [==============================] - 0s 205us/sample - loss: 0.9753 - accuracy: 0.2946 - val_loss: 0.9477 - val_accuracy: 0.3684\n",
            "Epoch 11/100\n",
            "112/112 [==============================] - 0s 182us/sample - loss: 0.9368 - accuracy: 0.3482 - val_loss: 0.9079 - val_accuracy: 0.4211\n",
            "Epoch 12/100\n",
            "112/112 [==============================] - 0s 181us/sample - loss: 0.9026 - accuracy: 0.4821 - val_loss: 0.8678 - val_accuracy: 0.5263\n",
            "Epoch 13/100\n",
            "112/112 [==============================] - 0s 183us/sample - loss: 0.8674 - accuracy: 0.5625 - val_loss: 0.8330 - val_accuracy: 0.6053\n",
            "Epoch 14/100\n",
            "112/112 [==============================] - 0s 167us/sample - loss: 0.8414 - accuracy: 0.6161 - val_loss: 0.8076 - val_accuracy: 0.6316\n",
            "Epoch 15/100\n",
            "112/112 [==============================] - 0s 166us/sample - loss: 0.8141 - accuracy: 0.6518 - val_loss: 0.8108 - val_accuracy: 0.6053\n",
            "Epoch 16/100\n",
            "112/112 [==============================] - 0s 162us/sample - loss: 0.7945 - accuracy: 0.6339 - val_loss: 0.7947 - val_accuracy: 0.6053\n",
            "Epoch 17/100\n",
            "112/112 [==============================] - 0s 208us/sample - loss: 0.7673 - accuracy: 0.6964 - val_loss: 0.7658 - val_accuracy: 0.6053\n",
            "Epoch 18/100\n",
            "112/112 [==============================] - 0s 211us/sample - loss: 0.7481 - accuracy: 0.6964 - val_loss: 0.7450 - val_accuracy: 0.6316\n",
            "Epoch 19/100\n",
            "112/112 [==============================] - 0s 200us/sample - loss: 0.7302 - accuracy: 0.7143 - val_loss: 0.7381 - val_accuracy: 0.6316\n",
            "Epoch 20/100\n",
            "112/112 [==============================] - 0s 204us/sample - loss: 0.7134 - accuracy: 0.7143 - val_loss: 0.7374 - val_accuracy: 0.5789\n",
            "Epoch 21/100\n",
            "112/112 [==============================] - 0s 194us/sample - loss: 0.6973 - accuracy: 0.7232 - val_loss: 0.7122 - val_accuracy: 0.6053\n",
            "Epoch 22/100\n",
            "112/112 [==============================] - 0s 188us/sample - loss: 0.6848 - accuracy: 0.6964 - val_loss: 0.6972 - val_accuracy: 0.6053\n",
            "Epoch 23/100\n",
            "112/112 [==============================] - 0s 172us/sample - loss: 0.6696 - accuracy: 0.7054 - val_loss: 0.6819 - val_accuracy: 0.6053\n",
            "Epoch 24/100\n",
            "112/112 [==============================] - 0s 171us/sample - loss: 0.6569 - accuracy: 0.7232 - val_loss: 0.6606 - val_accuracy: 0.6316\n",
            "Epoch 25/100\n",
            "112/112 [==============================] - 0s 163us/sample - loss: 0.6476 - accuracy: 0.7054 - val_loss: 0.6587 - val_accuracy: 0.6316\n",
            "Epoch 26/100\n",
            "112/112 [==============================] - 0s 204us/sample - loss: 0.6349 - accuracy: 0.7321 - val_loss: 0.6444 - val_accuracy: 0.6316\n",
            "Epoch 27/100\n",
            "112/112 [==============================] - 0s 209us/sample - loss: 0.6257 - accuracy: 0.7411 - val_loss: 0.6307 - val_accuracy: 0.6316\n",
            "Epoch 28/100\n",
            "112/112 [==============================] - 0s 177us/sample - loss: 0.6142 - accuracy: 0.7321 - val_loss: 0.6351 - val_accuracy: 0.6053\n",
            "Epoch 29/100\n",
            "112/112 [==============================] - 0s 198us/sample - loss: 0.6051 - accuracy: 0.7411 - val_loss: 0.6238 - val_accuracy: 0.6053\n",
            "Epoch 30/100\n",
            "112/112 [==============================] - 0s 201us/sample - loss: 0.5958 - accuracy: 0.7321 - val_loss: 0.6225 - val_accuracy: 0.6316\n",
            "Epoch 31/100\n",
            "112/112 [==============================] - 0s 167us/sample - loss: 0.5894 - accuracy: 0.7500 - val_loss: 0.6064 - val_accuracy: 0.6316\n",
            "Epoch 32/100\n",
            "112/112 [==============================] - 0s 182us/sample - loss: 0.5810 - accuracy: 0.7500 - val_loss: 0.6138 - val_accuracy: 0.6316\n",
            "Epoch 33/100\n",
            "112/112 [==============================] - 0s 184us/sample - loss: 0.5733 - accuracy: 0.7411 - val_loss: 0.5989 - val_accuracy: 0.6316\n",
            "Epoch 34/100\n",
            "112/112 [==============================] - 0s 170us/sample - loss: 0.5661 - accuracy: 0.7589 - val_loss: 0.5895 - val_accuracy: 0.6053\n",
            "Epoch 35/100\n",
            "112/112 [==============================] - 0s 175us/sample - loss: 0.5625 - accuracy: 0.7589 - val_loss: 0.6006 - val_accuracy: 0.6579\n",
            "Epoch 36/100\n",
            "112/112 [==============================] - 0s 232us/sample - loss: 0.5536 - accuracy: 0.7768 - val_loss: 0.5985 - val_accuracy: 0.6579\n",
            "Epoch 37/100\n",
            "112/112 [==============================] - 0s 238us/sample - loss: 0.5481 - accuracy: 0.7857 - val_loss: 0.5919 - val_accuracy: 0.6579\n",
            "Epoch 38/100\n",
            "112/112 [==============================] - 0s 251us/sample - loss: 0.5430 - accuracy: 0.7679 - val_loss: 0.5827 - val_accuracy: 0.6579\n",
            "Epoch 39/100\n",
            "112/112 [==============================] - 0s 259us/sample - loss: 0.5364 - accuracy: 0.7857 - val_loss: 0.5652 - val_accuracy: 0.6316\n",
            "Epoch 40/100\n",
            "112/112 [==============================] - 0s 218us/sample - loss: 0.5324 - accuracy: 0.7946 - val_loss: 0.5644 - val_accuracy: 0.6316\n",
            "Epoch 41/100\n",
            "112/112 [==============================] - 0s 287us/sample - loss: 0.5257 - accuracy: 0.8036 - val_loss: 0.5726 - val_accuracy: 0.6579\n",
            "Epoch 42/100\n",
            "112/112 [==============================] - 0s 265us/sample - loss: 0.5215 - accuracy: 0.7946 - val_loss: 0.5676 - val_accuracy: 0.6579\n",
            "Epoch 43/100\n",
            "112/112 [==============================] - 0s 264us/sample - loss: 0.5161 - accuracy: 0.7857 - val_loss: 0.5530 - val_accuracy: 0.6579\n",
            "Epoch 44/100\n",
            "112/112 [==============================] - 0s 262us/sample - loss: 0.5112 - accuracy: 0.8214 - val_loss: 0.5545 - val_accuracy: 0.6579\n",
            "Epoch 45/100\n",
            "112/112 [==============================] - 0s 244us/sample - loss: 0.5071 - accuracy: 0.8125 - val_loss: 0.5595 - val_accuracy: 0.6579\n",
            "Epoch 46/100\n",
            "112/112 [==============================] - 0s 243us/sample - loss: 0.5022 - accuracy: 0.8036 - val_loss: 0.5507 - val_accuracy: 0.6579\n",
            "Epoch 47/100\n",
            "112/112 [==============================] - 0s 220us/sample - loss: 0.4984 - accuracy: 0.8036 - val_loss: 0.5348 - val_accuracy: 0.6579\n",
            "Epoch 48/100\n",
            "112/112 [==============================] - 0s 235us/sample - loss: 0.4957 - accuracy: 0.8125 - val_loss: 0.5430 - val_accuracy: 0.6579\n",
            "Epoch 49/100\n",
            "112/112 [==============================] - 0s 266us/sample - loss: 0.4894 - accuracy: 0.8125 - val_loss: 0.5369 - val_accuracy: 0.6579\n",
            "Epoch 50/100\n",
            "112/112 [==============================] - 0s 252us/sample - loss: 0.4856 - accuracy: 0.8214 - val_loss: 0.5366 - val_accuracy: 0.6579\n",
            "Epoch 51/100\n",
            "112/112 [==============================] - 0s 266us/sample - loss: 0.4839 - accuracy: 0.8036 - val_loss: 0.5257 - val_accuracy: 0.6579\n",
            "Epoch 52/100\n",
            "112/112 [==============================] - 0s 248us/sample - loss: 0.4782 - accuracy: 0.8393 - val_loss: 0.5192 - val_accuracy: 0.6579\n",
            "Epoch 53/100\n",
            "112/112 [==============================] - 0s 274us/sample - loss: 0.4808 - accuracy: 0.8125 - val_loss: 0.5016 - val_accuracy: 0.6842\n",
            "Epoch 54/100\n",
            "112/112 [==============================] - 0s 280us/sample - loss: 0.4721 - accuracy: 0.8571 - val_loss: 0.5044 - val_accuracy: 0.6842\n",
            "Epoch 55/100\n",
            "112/112 [==============================] - 0s 242us/sample - loss: 0.4681 - accuracy: 0.8393 - val_loss: 0.5135 - val_accuracy: 0.6579\n",
            "Epoch 56/100\n",
            "112/112 [==============================] - 0s 278us/sample - loss: 0.4648 - accuracy: 0.8482 - val_loss: 0.4976 - val_accuracy: 0.6842\n",
            "Epoch 57/100\n",
            "112/112 [==============================] - 0s 253us/sample - loss: 0.4620 - accuracy: 0.8482 - val_loss: 0.4958 - val_accuracy: 0.7105\n",
            "Epoch 58/100\n",
            "112/112 [==============================] - 0s 246us/sample - loss: 0.4590 - accuracy: 0.8571 - val_loss: 0.5110 - val_accuracy: 0.6579\n",
            "Epoch 59/100\n",
            "112/112 [==============================] - 0s 263us/sample - loss: 0.4555 - accuracy: 0.8304 - val_loss: 0.4938 - val_accuracy: 0.6579\n",
            "Epoch 60/100\n",
            "112/112 [==============================] - 0s 249us/sample - loss: 0.4518 - accuracy: 0.8482 - val_loss: 0.4877 - val_accuracy: 0.7105\n",
            "Epoch 61/100\n",
            "112/112 [==============================] - 0s 264us/sample - loss: 0.4481 - accuracy: 0.8661 - val_loss: 0.4915 - val_accuracy: 0.6579\n",
            "Epoch 62/100\n",
            "112/112 [==============================] - 0s 250us/sample - loss: 0.4475 - accuracy: 0.8482 - val_loss: 0.4897 - val_accuracy: 0.6579\n",
            "Epoch 63/100\n",
            "112/112 [==============================] - 0s 279us/sample - loss: 0.4446 - accuracy: 0.8482 - val_loss: 0.4974 - val_accuracy: 0.6579\n",
            "Epoch 64/100\n",
            "112/112 [==============================] - 0s 263us/sample - loss: 0.4399 - accuracy: 0.8571 - val_loss: 0.4901 - val_accuracy: 0.6579\n",
            "Epoch 65/100\n",
            "112/112 [==============================] - 0s 252us/sample - loss: 0.4390 - accuracy: 0.8482 - val_loss: 0.4689 - val_accuracy: 0.7368\n",
            "Epoch 66/100\n",
            "112/112 [==============================] - 0s 249us/sample - loss: 0.4339 - accuracy: 0.8839 - val_loss: 0.4758 - val_accuracy: 0.7105\n",
            "Epoch 67/100\n",
            "112/112 [==============================] - 0s 294us/sample - loss: 0.4309 - accuracy: 0.8750 - val_loss: 0.4758 - val_accuracy: 0.6579\n",
            "Epoch 68/100\n",
            "112/112 [==============================] - 0s 231us/sample - loss: 0.4301 - accuracy: 0.8929 - val_loss: 0.4938 - val_accuracy: 0.6842\n",
            "Epoch 69/100\n",
            "112/112 [==============================] - 0s 245us/sample - loss: 0.4270 - accuracy: 0.8482 - val_loss: 0.4819 - val_accuracy: 0.6842\n",
            "Epoch 70/100\n",
            "112/112 [==============================] - 0s 241us/sample - loss: 0.4240 - accuracy: 0.8929 - val_loss: 0.4790 - val_accuracy: 0.6842\n",
            "Epoch 71/100\n",
            "112/112 [==============================] - 0s 234us/sample - loss: 0.4249 - accuracy: 0.8393 - val_loss: 0.4608 - val_accuracy: 0.7632\n",
            "Epoch 72/100\n",
            "112/112 [==============================] - 0s 245us/sample - loss: 0.4226 - accuracy: 0.8839 - val_loss: 0.4522 - val_accuracy: 0.8158\n",
            "Epoch 73/100\n",
            "112/112 [==============================] - 0s 238us/sample - loss: 0.4172 - accuracy: 0.8839 - val_loss: 0.4402 - val_accuracy: 0.8158\n",
            "Epoch 74/100\n",
            "112/112 [==============================] - 0s 242us/sample - loss: 0.4155 - accuracy: 0.9107 - val_loss: 0.4463 - val_accuracy: 0.8421\n",
            "Epoch 75/100\n",
            "112/112 [==============================] - 0s 293us/sample - loss: 0.4111 - accuracy: 0.8929 - val_loss: 0.4550 - val_accuracy: 0.7632\n",
            "Epoch 76/100\n",
            "112/112 [==============================] - 0s 248us/sample - loss: 0.4080 - accuracy: 0.9196 - val_loss: 0.4590 - val_accuracy: 0.7105\n",
            "Epoch 77/100\n",
            "112/112 [==============================] - 0s 244us/sample - loss: 0.4050 - accuracy: 0.9018 - val_loss: 0.4598 - val_accuracy: 0.7105\n",
            "Epoch 78/100\n",
            "112/112 [==============================] - 0s 258us/sample - loss: 0.4029 - accuracy: 0.9107 - val_loss: 0.4623 - val_accuracy: 0.7105\n",
            "Epoch 79/100\n",
            "112/112 [==============================] - 0s 244us/sample - loss: 0.4006 - accuracy: 0.8929 - val_loss: 0.4417 - val_accuracy: 0.8421\n",
            "Epoch 80/100\n",
            "112/112 [==============================] - 0s 230us/sample - loss: 0.3993 - accuracy: 0.9286 - val_loss: 0.4472 - val_accuracy: 0.8158\n",
            "Epoch 81/100\n",
            "112/112 [==============================] - 0s 258us/sample - loss: 0.3955 - accuracy: 0.9107 - val_loss: 0.4389 - val_accuracy: 0.8684\n",
            "Epoch 82/100\n",
            "112/112 [==============================] - 0s 266us/sample - loss: 0.3943 - accuracy: 0.9196 - val_loss: 0.4421 - val_accuracy: 0.8158\n",
            "Epoch 83/100\n",
            "112/112 [==============================] - 0s 253us/sample - loss: 0.3919 - accuracy: 0.9018 - val_loss: 0.4406 - val_accuracy: 0.8158\n",
            "Epoch 84/100\n",
            "112/112 [==============================] - 0s 275us/sample - loss: 0.3942 - accuracy: 0.9018 - val_loss: 0.4437 - val_accuracy: 0.7895\n",
            "Epoch 85/100\n",
            "112/112 [==============================] - 0s 336us/sample - loss: 0.3863 - accuracy: 0.9107 - val_loss: 0.4400 - val_accuracy: 0.7895\n",
            "Epoch 86/100\n",
            "112/112 [==============================] - 0s 331us/sample - loss: 0.3840 - accuracy: 0.9196 - val_loss: 0.4322 - val_accuracy: 0.8684\n",
            "Epoch 87/100\n",
            "112/112 [==============================] - 0s 278us/sample - loss: 0.3818 - accuracy: 0.9107 - val_loss: 0.4279 - val_accuracy: 0.8684\n",
            "Epoch 88/100\n",
            "112/112 [==============================] - 0s 284us/sample - loss: 0.3800 - accuracy: 0.9286 - val_loss: 0.4356 - val_accuracy: 0.8158\n",
            "Epoch 89/100\n",
            "112/112 [==============================] - 0s 286us/sample - loss: 0.3780 - accuracy: 0.9107 - val_loss: 0.4387 - val_accuracy: 0.7895\n",
            "Epoch 90/100\n",
            "112/112 [==============================] - 0s 282us/sample - loss: 0.3765 - accuracy: 0.9107 - val_loss: 0.4315 - val_accuracy: 0.8684\n",
            "Epoch 91/100\n",
            "112/112 [==============================] - 0s 268us/sample - loss: 0.3733 - accuracy: 0.9196 - val_loss: 0.4257 - val_accuracy: 0.8684\n",
            "Epoch 92/100\n",
            "112/112 [==============================] - 0s 258us/sample - loss: 0.3713 - accuracy: 0.9286 - val_loss: 0.4297 - val_accuracy: 0.8684\n",
            "Epoch 93/100\n",
            "112/112 [==============================] - 0s 296us/sample - loss: 0.3705 - accuracy: 0.9018 - val_loss: 0.4194 - val_accuracy: 0.8947\n",
            "Epoch 94/100\n",
            "112/112 [==============================] - 0s 299us/sample - loss: 0.3672 - accuracy: 0.9286 - val_loss: 0.4270 - val_accuracy: 0.8684\n",
            "Epoch 95/100\n",
            "112/112 [==============================] - 0s 262us/sample - loss: 0.3660 - accuracy: 0.9196 - val_loss: 0.4445 - val_accuracy: 0.7368\n",
            "Epoch 96/100\n",
            "112/112 [==============================] - 0s 265us/sample - loss: 0.3640 - accuracy: 0.9018 - val_loss: 0.4264 - val_accuracy: 0.8421\n",
            "Epoch 97/100\n",
            "112/112 [==============================] - 0s 256us/sample - loss: 0.3609 - accuracy: 0.9107 - val_loss: 0.4139 - val_accuracy: 0.8947\n",
            "Epoch 98/100\n",
            "112/112 [==============================] - 0s 230us/sample - loss: 0.3603 - accuracy: 0.9286 - val_loss: 0.3930 - val_accuracy: 0.8947\n",
            "Epoch 99/100\n",
            "112/112 [==============================] - 0s 236us/sample - loss: 0.3574 - accuracy: 0.9464 - val_loss: 0.4018 - val_accuracy: 0.9211\n",
            "Epoch 100/100\n",
            "112/112 [==============================] - 0s 231us/sample - loss: 0.3545 - accuracy: 0.9286 - val_loss: 0.4062 - val_accuracy: 0.9211\n"
          ],
          "name": "stdout"
        },
        {
          "output_type": "execute_result",
          "data": {
            "text/plain": [
              "<tensorflow.python.keras.callbacks.History at 0x7f62aa51ae10>"
            ]
          },
          "metadata": {
            "tags": []
          },
          "execution_count": 71
        }
      ]
    },
    {
      "cell_type": "markdown",
      "metadata": {
        "id": "re9ItAR3yS3J",
        "colab_type": "text"
      },
      "source": [
        "## Question 10"
      ]
    },
    {
      "cell_type": "markdown",
      "metadata": {
        "id": "liw0IFf9yVqH",
        "colab_type": "text"
      },
      "source": [
        "### Make predictions\n",
        "- Predict labels on one row"
      ]
    },
    {
      "cell_type": "code",
      "metadata": {
        "id": "H5sBybi6mlLl",
        "colab_type": "code",
        "colab": {
          "base_uri": "https://localhost:8080/",
          "height": 68
        },
        "outputId": "668d73d9-2e3a-4e7e-c235-e2482e256b42"
      },
      "source": [
        "input_data = np.expand_dims(X_test[0], axis=0)\n",
        "print(input_data.shape)\n",
        "pred = model.predict(input_data)\n",
        "print(pred)\n",
        "y_test[np.argmax(pred)]"
      ],
      "execution_count": 84,
      "outputs": [
        {
          "output_type": "stream",
          "text": [
            "(1, 4)\n",
            "[[9.6979183e-01 2.9876348e-02 3.3182869e-04]]\n"
          ],
          "name": "stdout"
        },
        {
          "output_type": "execute_result",
          "data": {
            "text/plain": [
              "0.0"
            ]
          },
          "metadata": {
            "tags": []
          },
          "execution_count": 84
        }
      ]
    },
    {
      "cell_type": "markdown",
      "metadata": {
        "id": "hSUgMq3m0bG7",
        "colab_type": "text"
      },
      "source": [
        "### Compare the prediction with actual label\n",
        "- Print the same row as done in the previous step but of actual labels"
      ]
    },
    {
      "cell_type": "code",
      "metadata": {
        "id": "K5WbwVPyz-qQ",
        "colab_type": "code",
        "colab": {
          "base_uri": "https://localhost:8080/",
          "height": 34
        },
        "outputId": "d13f7ccb-53b3-47af-a755-7b73c6ebc79c"
      },
      "source": [
        "y_test[0]"
      ],
      "execution_count": 83,
      "outputs": [
        {
          "output_type": "execute_result",
          "data": {
            "text/plain": [
              "0.0"
            ]
          },
          "metadata": {
            "tags": []
          },
          "execution_count": 83
        }
      ]
    },
    {
      "cell_type": "markdown",
      "metadata": {
        "id": "FrTKwbgE7NFT",
        "colab_type": "text"
      },
      "source": [
        "\n",
        "\n",
        "---\n",
        "\n"
      ]
    },
    {
      "cell_type": "markdown",
      "metadata": {
        "id": "a1UBYPNp5Tn1",
        "colab_type": "text"
      },
      "source": [
        "# Stock prices dataset\n",
        "The data is of tock exchange's stock listings for each trading day of 2010 to 2016.\n",
        "\n",
        "## Description\n",
        "A brief description of columns.\n",
        "- open: The opening market price of the equity symbol on the date\n",
        "- high: The highest market price of the equity symbol on the date\n",
        "- low: The lowest recorded market price of the equity symbol on the date\n",
        "- close: The closing recorded price of the equity symbol on the date\n",
        "- symbol: Symbol of the listed company\n",
        "- volume: Total traded volume of the equity symbol on the date\n",
        "- date: Date of record"
      ]
    },
    {
      "cell_type": "markdown",
      "metadata": {
        "colab_type": "text",
        "id": "ctH_ZW5g-M3g"
      },
      "source": [
        "### Specifying the TensorFlow version\n",
        "Running `import tensorflow` will import the default version (currently 1.x). You can use 2.x by running a cell with the `tensorflow_version` magic **before** you run `import tensorflow`."
      ]
    },
    {
      "cell_type": "code",
      "metadata": {
        "colab_type": "code",
        "id": "vQbdODpH-M3r",
        "colab": {}
      },
      "source": [
        "%tensorflow_version 2.x"
      ],
      "execution_count": 0,
      "outputs": []
    },
    {
      "cell_type": "markdown",
      "metadata": {
        "colab_type": "text",
        "id": "nFQWH1tj-M38"
      },
      "source": [
        "### Import TensorFlow\n",
        "Once you have specified a version via this magic, you can run `import tensorflow` as normal and verify which version was imported as follows:"
      ]
    },
    {
      "cell_type": "code",
      "metadata": {
        "colab_type": "code",
        "id": "Ho5n-xhd-M3_",
        "colab": {
          "base_uri": "https://localhost:8080/",
          "height": 34
        },
        "outputId": "4c443a40-58f7-4683-dbce-b42e913592ed"
      },
      "source": [
        "import tensorflow as tf\n",
        "print(tf.__version__)"
      ],
      "execution_count": 4,
      "outputs": [
        {
          "output_type": "stream",
          "text": [
            "2.0.0-rc2\n"
          ],
          "name": "stdout"
        }
      ]
    },
    {
      "cell_type": "markdown",
      "metadata": {
        "colab_type": "text",
        "id": "tgkl0qu6-M4F"
      },
      "source": [
        "### Set random seed"
      ]
    },
    {
      "cell_type": "code",
      "metadata": {
        "colab_type": "code",
        "id": "TKgTyuA3-M4G",
        "colab": {}
      },
      "source": [
        "tf.random.set_seed(42)"
      ],
      "execution_count": 0,
      "outputs": []
    },
    {
      "cell_type": "markdown",
      "metadata": {
        "id": "_88voqAH-O6J",
        "colab_type": "text"
      },
      "source": [
        "## Question 1"
      ]
    },
    {
      "cell_type": "markdown",
      "metadata": {
        "id": "dRHCeJqP-evf",
        "colab_type": "text"
      },
      "source": [
        "### Load the data\n",
        "- load the csv file and read it using pandas\n",
        "- file name is prices.csv"
      ]
    },
    {
      "cell_type": "code",
      "metadata": {
        "id": "cKVH5v7r-RmC",
        "colab_type": "code",
        "colab": {
          "resources": {
            "http://localhost:8080/nbextensions/google.colab/files.js": {
              "data": "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",
              "ok": true,
              "headers": [
                [
                  "content-type",
                  "application/javascript"
                ]
              ],
              "status": 200,
              "status_text": ""
            }
          },
          "base_uri": "https://localhost:8080/",
          "height": 71
        },
        "outputId": "8673970d-50aa-4158-ebee-f5db68c412f0"
      },
      "source": [
        "# run this cell to upload file if you are using google colab\n",
        "from google.colab import files\n",
        "files.upload()"
      ],
      "execution_count": 6,
      "outputs": [
        {
          "output_type": "display_data",
          "data": {
            "text/html": [
              "\n",
              "     <input type=\"file\" id=\"files-e7b20967-9614-4bf4-bb95-9a3dd1eb3f73\" name=\"files[]\" multiple disabled />\n",
              "     <output id=\"result-e7b20967-9614-4bf4-bb95-9a3dd1eb3f73\">\n",
              "      Upload widget is only available when the cell has been executed in the\n",
              "      current browser session. Please rerun this cell to enable.\n",
              "      </output>\n",
              "      <script src=\"/nbextensions/google.colab/files.js\"></script> "
            ],
            "text/plain": [
              "<IPython.core.display.HTML object>"
            ]
          },
          "metadata": {
            "tags": []
          }
        },
        {
          "output_type": "stream",
          "text": [
            "Saving prices.csv to prices.csv\n"
          ],
          "name": "stdout"
        }
      ]
    },
    {
      "cell_type": "code",
      "metadata": {
        "id": "-gDC6cSW_FSK",
        "colab_type": "code",
        "colab": {}
      },
      "source": [
        ""
      ],
      "execution_count": 0,
      "outputs": []
    },
    {
      "cell_type": "markdown",
      "metadata": {
        "id": "HlLKVPVH_BCT",
        "colab_type": "text"
      },
      "source": [
        "## Question 2"
      ]
    },
    {
      "cell_type": "markdown",
      "metadata": {
        "id": "9J4BlzVA_gZd",
        "colab_type": "text"
      },
      "source": [
        "### Drop columnns\n",
        "- drop \"date\" and \"symbol\" column from the data"
      ]
    },
    {
      "cell_type": "code",
      "metadata": {
        "id": "IKEK8aEE_Csx",
        "colab_type": "code",
        "colab": {
          "base_uri": "https://localhost:8080/",
          "height": 204
        },
        "outputId": "1a8c5bde-e05c-43f9-c6ba-18158ac6c9e0"
      },
      "source": [
        "import pandas as pd\n",
        "df_price = pd.read_csv('prices.csv')\n",
        "df_price.head()"
      ],
      "execution_count": 115,
      "outputs": [
        {
          "output_type": "execute_result",
          "data": {
            "text/html": [
              "<div>\n",
              "<style scoped>\n",
              "    .dataframe tbody tr th:only-of-type {\n",
              "        vertical-align: middle;\n",
              "    }\n",
              "\n",
              "    .dataframe tbody tr th {\n",
              "        vertical-align: top;\n",
              "    }\n",
              "\n",
              "    .dataframe thead th {\n",
              "        text-align: right;\n",
              "    }\n",
              "</style>\n",
              "<table border=\"1\" class=\"dataframe\">\n",
              "  <thead>\n",
              "    <tr style=\"text-align: right;\">\n",
              "      <th></th>\n",
              "      <th>date</th>\n",
              "      <th>symbol</th>\n",
              "      <th>open</th>\n",
              "      <th>close</th>\n",
              "      <th>low</th>\n",
              "      <th>high</th>\n",
              "      <th>volume</th>\n",
              "    </tr>\n",
              "  </thead>\n",
              "  <tbody>\n",
              "    <tr>\n",
              "      <th>0</th>\n",
              "      <td>2016-01-05 00:00:00</td>\n",
              "      <td>WLTW</td>\n",
              "      <td>123.430000</td>\n",
              "      <td>125.839996</td>\n",
              "      <td>122.309998</td>\n",
              "      <td>126.250000</td>\n",
              "      <td>2163600.0</td>\n",
              "    </tr>\n",
              "    <tr>\n",
              "      <th>1</th>\n",
              "      <td>2016-01-06 00:00:00</td>\n",
              "      <td>WLTW</td>\n",
              "      <td>125.239998</td>\n",
              "      <td>119.980003</td>\n",
              "      <td>119.940002</td>\n",
              "      <td>125.540001</td>\n",
              "      <td>2386400.0</td>\n",
              "    </tr>\n",
              "    <tr>\n",
              "      <th>2</th>\n",
              "      <td>2016-01-07 00:00:00</td>\n",
              "      <td>WLTW</td>\n",
              "      <td>116.379997</td>\n",
              "      <td>114.949997</td>\n",
              "      <td>114.930000</td>\n",
              "      <td>119.739998</td>\n",
              "      <td>2489500.0</td>\n",
              "    </tr>\n",
              "    <tr>\n",
              "      <th>3</th>\n",
              "      <td>2016-01-08 00:00:00</td>\n",
              "      <td>WLTW</td>\n",
              "      <td>115.480003</td>\n",
              "      <td>116.620003</td>\n",
              "      <td>113.500000</td>\n",
              "      <td>117.440002</td>\n",
              "      <td>2006300.0</td>\n",
              "    </tr>\n",
              "    <tr>\n",
              "      <th>4</th>\n",
              "      <td>2016-01-11 00:00:00</td>\n",
              "      <td>WLTW</td>\n",
              "      <td>117.010002</td>\n",
              "      <td>114.970001</td>\n",
              "      <td>114.089996</td>\n",
              "      <td>117.330002</td>\n",
              "      <td>1408600.0</td>\n",
              "    </tr>\n",
              "  </tbody>\n",
              "</table>\n",
              "</div>"
            ],
            "text/plain": [
              "                  date symbol        open  ...         low        high     volume\n",
              "0  2016-01-05 00:00:00   WLTW  123.430000  ...  122.309998  126.250000  2163600.0\n",
              "1  2016-01-06 00:00:00   WLTW  125.239998  ...  119.940002  125.540001  2386400.0\n",
              "2  2016-01-07 00:00:00   WLTW  116.379997  ...  114.930000  119.739998  2489500.0\n",
              "3  2016-01-08 00:00:00   WLTW  115.480003  ...  113.500000  117.440002  2006300.0\n",
              "4  2016-01-11 00:00:00   WLTW  117.010002  ...  114.089996  117.330002  1408600.0\n",
              "\n",
              "[5 rows x 7 columns]"
            ]
          },
          "metadata": {
            "tags": []
          },
          "execution_count": 115
        }
      ]
    },
    {
      "cell_type": "code",
      "metadata": {
        "id": "IRMqQnAjuvHz",
        "colab_type": "code",
        "colab": {
          "base_uri": "https://localhost:8080/",
          "height": 359
        },
        "outputId": "600042ed-33ef-4da4-f6d9-2de69192fab5"
      },
      "source": [
        "df_price = df_price.drop(columns=['symbol','date'])\n",
        "df_price.head(10)"
      ],
      "execution_count": 116,
      "outputs": [
        {
          "output_type": "execute_result",
          "data": {
            "text/html": [
              "<div>\n",
              "<style scoped>\n",
              "    .dataframe tbody tr th:only-of-type {\n",
              "        vertical-align: middle;\n",
              "    }\n",
              "\n",
              "    .dataframe tbody tr th {\n",
              "        vertical-align: top;\n",
              "    }\n",
              "\n",
              "    .dataframe thead th {\n",
              "        text-align: right;\n",
              "    }\n",
              "</style>\n",
              "<table border=\"1\" class=\"dataframe\">\n",
              "  <thead>\n",
              "    <tr style=\"text-align: right;\">\n",
              "      <th></th>\n",
              "      <th>open</th>\n",
              "      <th>close</th>\n",
              "      <th>low</th>\n",
              "      <th>high</th>\n",
              "      <th>volume</th>\n",
              "    </tr>\n",
              "  </thead>\n",
              "  <tbody>\n",
              "    <tr>\n",
              "      <th>0</th>\n",
              "      <td>123.430000</td>\n",
              "      <td>125.839996</td>\n",
              "      <td>122.309998</td>\n",
              "      <td>126.250000</td>\n",
              "      <td>2163600.0</td>\n",
              "    </tr>\n",
              "    <tr>\n",
              "      <th>1</th>\n",
              "      <td>125.239998</td>\n",
              "      <td>119.980003</td>\n",
              "      <td>119.940002</td>\n",
              "      <td>125.540001</td>\n",
              "      <td>2386400.0</td>\n",
              "    </tr>\n",
              "    <tr>\n",
              "      <th>2</th>\n",
              "      <td>116.379997</td>\n",
              "      <td>114.949997</td>\n",
              "      <td>114.930000</td>\n",
              "      <td>119.739998</td>\n",
              "      <td>2489500.0</td>\n",
              "    </tr>\n",
              "    <tr>\n",
              "      <th>3</th>\n",
              "      <td>115.480003</td>\n",
              "      <td>116.620003</td>\n",
              "      <td>113.500000</td>\n",
              "      <td>117.440002</td>\n",
              "      <td>2006300.0</td>\n",
              "    </tr>\n",
              "    <tr>\n",
              "      <th>4</th>\n",
              "      <td>117.010002</td>\n",
              "      <td>114.970001</td>\n",
              "      <td>114.089996</td>\n",
              "      <td>117.330002</td>\n",
              "      <td>1408600.0</td>\n",
              "    </tr>\n",
              "    <tr>\n",
              "      <th>5</th>\n",
              "      <td>115.510002</td>\n",
              "      <td>115.550003</td>\n",
              "      <td>114.500000</td>\n",
              "      <td>116.059998</td>\n",
              "      <td>1098000.0</td>\n",
              "    </tr>\n",
              "    <tr>\n",
              "      <th>6</th>\n",
              "      <td>116.459999</td>\n",
              "      <td>112.849998</td>\n",
              "      <td>112.589996</td>\n",
              "      <td>117.070000</td>\n",
              "      <td>949600.0</td>\n",
              "    </tr>\n",
              "    <tr>\n",
              "      <th>7</th>\n",
              "      <td>113.510002</td>\n",
              "      <td>114.379997</td>\n",
              "      <td>110.050003</td>\n",
              "      <td>115.029999</td>\n",
              "      <td>785300.0</td>\n",
              "    </tr>\n",
              "    <tr>\n",
              "      <th>8</th>\n",
              "      <td>113.330002</td>\n",
              "      <td>112.529999</td>\n",
              "      <td>111.919998</td>\n",
              "      <td>114.879997</td>\n",
              "      <td>1093700.0</td>\n",
              "    </tr>\n",
              "    <tr>\n",
              "      <th>9</th>\n",
              "      <td>113.660004</td>\n",
              "      <td>110.379997</td>\n",
              "      <td>109.870003</td>\n",
              "      <td>115.870003</td>\n",
              "      <td>1523500.0</td>\n",
              "    </tr>\n",
              "  </tbody>\n",
              "</table>\n",
              "</div>"
            ],
            "text/plain": [
              "         open       close         low        high     volume\n",
              "0  123.430000  125.839996  122.309998  126.250000  2163600.0\n",
              "1  125.239998  119.980003  119.940002  125.540001  2386400.0\n",
              "2  116.379997  114.949997  114.930000  119.739998  2489500.0\n",
              "3  115.480003  116.620003  113.500000  117.440002  2006300.0\n",
              "4  117.010002  114.970001  114.089996  117.330002  1408600.0\n",
              "5  115.510002  115.550003  114.500000  116.059998  1098000.0\n",
              "6  116.459999  112.849998  112.589996  117.070000   949600.0\n",
              "7  113.510002  114.379997  110.050003  115.029999   785300.0\n",
              "8  113.330002  112.529999  111.919998  114.879997  1093700.0\n",
              "9  113.660004  110.379997  109.870003  115.870003  1523500.0"
            ]
          },
          "metadata": {
            "tags": []
          },
          "execution_count": 116
        }
      ]
    },
    {
      "cell_type": "markdown",
      "metadata": {
        "id": "cTPhO6v-AiZt",
        "colab_type": "text"
      },
      "source": [
        "## Question 3"
      ]
    },
    {
      "cell_type": "markdown",
      "metadata": {
        "id": "SsZXmF3NAkna",
        "colab_type": "text"
      },
      "source": [
        "### Take initial rows\n",
        "- Take first 1000 rows from the data\n",
        "- This step is done to make the execution faster"
      ]
    },
    {
      "cell_type": "code",
      "metadata": {
        "id": "aKs04iIHAjxN",
        "colab_type": "code",
        "colab": {}
      },
      "source": [
        "df_price_first1k = df_price.head(1000)"
      ],
      "execution_count": 0,
      "outputs": []
    },
    {
      "cell_type": "markdown",
      "metadata": {
        "id": "6vGtnapgBIJm",
        "colab_type": "text"
      },
      "source": [
        "## Question 4"
      ]
    },
    {
      "cell_type": "markdown",
      "metadata": {
        "colab_type": "text",
        "id": "C8u_jlbABTip"
      },
      "source": [
        "### Get features and label from the dataset in separate variable\n",
        "- Take \"open\", \"close\", \"low\", \"high\" columns as features\n",
        "- Take \"volume\" column as label\n",
        "- Normalize label column by dividing it with 1000000"
      ]
    },
    {
      "cell_type": "code",
      "metadata": {
        "id": "xQjCMzUXBJbg",
        "colab_type": "code",
        "colab": {}
      },
      "source": [
        "price_X = df_price_first1k[['open', 'close', 'low', 'high']]\n",
        "price_y = df_price_first1k['volume']/1000000.0"
      ],
      "execution_count": 0,
      "outputs": []
    },
    {
      "cell_type": "markdown",
      "metadata": {
        "id": "aTAKzlxZBz0z",
        "colab_type": "text"
      },
      "source": [
        "## Question 5"
      ]
    },
    {
      "cell_type": "markdown",
      "metadata": {
        "id": "IfY8Km1Zzyt2",
        "colab_type": "text"
      },
      "source": [
        "### Convert data\n",
        "- Convert features and labels to numpy array\n",
        "- Convert their data type to \"float32\""
      ]
    },
    {
      "cell_type": "code",
      "metadata": {
        "id": "Ko7nnQVbYENh",
        "colab_type": "code",
        "colab": {}
      },
      "source": [
        "import numpy as np\n",
        "price_X = np.array(price_X).astype(np.float32)\n",
        "price_y  = np.array(price_y).astype(np.float32)"
      ],
      "execution_count": 0,
      "outputs": []
    },
    {
      "cell_type": "code",
      "metadata": {
        "id": "COTtkWYGwNT7",
        "colab_type": "code",
        "colab": {
          "base_uri": "https://localhost:8080/",
          "height": 136
        },
        "outputId": "a2140850-035a-48a0-ea16-13a7aa03a42a"
      },
      "source": [
        "price_X"
      ],
      "execution_count": 120,
      "outputs": [
        {
          "output_type": "execute_result",
          "data": {
            "text/plain": [
              "array([[123.43, 125.84, 122.31, 126.25],\n",
              "       [125.24, 119.98, 119.94, 125.54],\n",
              "       [116.38, 114.95, 114.93, 119.74],\n",
              "       ...,\n",
              "       [ 28.32,  28.77,  28.01,  28.81],\n",
              "       [ 44.  ,  44.8 ,  43.75,  44.81],\n",
              "       [ 36.08,  37.14,  36.01,  37.23]], dtype=float32)"
            ]
          },
          "metadata": {
            "tags": []
          },
          "execution_count": 120
        }
      ]
    },
    {
      "cell_type": "markdown",
      "metadata": {
        "colab_type": "text",
        "id": "3TWpN0nVTpUx"
      },
      "source": [
        "## Question 6"
      ]
    },
    {
      "cell_type": "markdown",
      "metadata": {
        "id": "WQ1FKEs-4btX",
        "colab_type": "text"
      },
      "source": [
        "### Normalize data\n",
        "- Normalize features\n",
        "- Use tf.math.l2_normalize to normalize features\n",
        "- You can read more about it here https://www.tensorflow.org/api_docs/python/tf/math/l2_normalize"
      ]
    },
    {
      "cell_type": "code",
      "metadata": {
        "id": "V0Tfe00X78wB",
        "colab_type": "code",
        "colab": {
          "base_uri": "https://localhost:8080/",
          "height": 153
        },
        "outputId": "e639cef6-03a7-4bb8-a625-9316e8fbd411"
      },
      "source": [
        "price_X = tf.compat.v2.linalg.l2_normalize(price_X)\n",
        "print(price_X)"
      ],
      "execution_count": 121,
      "outputs": [
        {
          "output_type": "stream",
          "text": [
            "tf.Tensor(\n",
            "[[0.02202894 0.02245906 0.02182905 0.02253223]\n",
            " [0.02235197 0.02141321 0.02140607 0.02240551]\n",
            " [0.0207707  0.02051548 0.02051192 0.02137037]\n",
            " ...\n",
            " [0.00505436 0.00513467 0.00499903 0.00514181]\n",
            " [0.00785282 0.0079956  0.0078082  0.00799738]\n",
            " [0.00643931 0.00662849 0.00642682 0.00664455]], shape=(1000, 4), dtype=float32)\n"
          ],
          "name": "stdout"
        }
      ]
    },
    {
      "cell_type": "code",
      "metadata": {
        "id": "TOmoK_nrz4Jr",
        "colab_type": "code",
        "colab": {
          "base_uri": "https://localhost:8080/",
          "height": 34
        },
        "outputId": "6843a412-e146-4f73-ae71-f6c2816d211f"
      },
      "source": [
        "price_X.shape"
      ],
      "execution_count": 127,
      "outputs": [
        {
          "output_type": "execute_result",
          "data": {
            "text/plain": [
              "TensorShape([1000, 4])"
            ]
          },
          "metadata": {
            "tags": []
          },
          "execution_count": 127
        }
      ]
    },
    {
      "cell_type": "markdown",
      "metadata": {
        "colab_type": "text",
        "id": "wmXUGc2oTspa"
      },
      "source": [
        "## Question 7"
      ]
    },
    {
      "cell_type": "markdown",
      "metadata": {
        "id": "VJelDMpzxs0L",
        "colab_type": "text"
      },
      "source": [
        "### Define weight and bias\n",
        "- Initialize weight and bias with tf.zeros\n",
        "- tf.zeros is an initializer that generates tensors initialized to 0\n",
        "- Specify the value for shape"
      ]
    },
    {
      "cell_type": "code",
      "metadata": {
        "id": "8o9RPWVTxs0O",
        "colab_type": "code",
        "colab": {}
      },
      "source": [
        "w = tf.zeros(shape=(4,1))\n",
        "b = tf.zeros(shape=(1))"
      ],
      "execution_count": 0,
      "outputs": []
    },
    {
      "cell_type": "markdown",
      "metadata": {
        "colab_type": "text",
        "id": "8a0wr94aTyjg"
      },
      "source": [
        "## Question 8"
      ]
    },
    {
      "cell_type": "markdown",
      "metadata": {
        "id": "zMXXYdOSxs0Q",
        "colab_type": "text"
      },
      "source": [
        "### Get prediction\n",
        "- Define a function to get prediction\n",
        "- Approach: prediction = (X * W) + b; here is X is features"
      ]
    },
    {
      "cell_type": "code",
      "metadata": {
        "id": "U8Cty1y0xs0S",
        "colab_type": "code",
        "colab": {}
      },
      "source": [
        "def prediction(x, w, b):\n",
        "    \n",
        "    xw_matmul = tf.matmul(x, w)\n",
        "    y = tf.add(xw_matmul, b)\n",
        "    \n",
        "    return y"
      ],
      "execution_count": 0,
      "outputs": []
    },
    {
      "cell_type": "markdown",
      "metadata": {
        "id": "lQmS3Tauxs0V",
        "colab_type": "text"
      },
      "source": [
        "### Calculate loss\n",
        "- Calculate loss using predictions\n",
        "- Define a function to calculate loss\n",
        "- We are calculating mean squared error"
      ]
    },
    {
      "cell_type": "code",
      "metadata": {
        "id": "3LGo-lPjx4SL",
        "colab_type": "code",
        "colab": {}
      },
      "source": [
        "def loss(y_actual, y_predicted):\n",
        "    \n",
        "    diff = y_actual - y_predicted\n",
        "    sqr = tf.square(diff)\n",
        "    avg = tf.reduce_mean(sqr)\n",
        "    \n",
        "    return avg"
      ],
      "execution_count": 0,
      "outputs": []
    },
    {
      "cell_type": "markdown",
      "metadata": {
        "colab_type": "text",
        "id": "ZbBpnOtfT0wd"
      },
      "source": [
        "## Question 9"
      ]
    },
    {
      "cell_type": "markdown",
      "metadata": {
        "id": "bkOzAUUsTmF_",
        "colab_type": "text"
      },
      "source": [
        "### Define a function to train the model\n",
        "1.   Record all the mathematical steps to calculate Loss\n",
        "2.   Calculate Gradients of Loss w.r.t weights and bias\n",
        "3.   Update Weights and Bias based on gradients and learning rate to minimize loss"
      ]
    },
    {
      "cell_type": "code",
      "metadata": {
        "id": "2R4uieGYLYtM",
        "colab_type": "code",
        "colab": {}
      },
      "source": [
        "def train(x, y_actual, w, b, learning_rate=0.01):\n",
        "    \n",
        "    #Record mathematical operations on 'tape' to calculate loss\n",
        "    with tf.GradientTape() as t:\n",
        "        \n",
        "        t.watch([w,b])\n",
        "        \n",
        "        current_prediction = prediction(x, w, b)\n",
        "        current_loss = loss(y_actual, current_prediction)\n",
        "    \n",
        "    #Calculate Gradients for Loss with respect to Weights and Bias\n",
        "    dw, db = t.gradient(current_loss,[w, b])\n",
        "    \n",
        "    #Update Weights and Bias\n",
        "    w = w - learning_rate*dw\n",
        "    b = b - learning_rate*db\n",
        "    \n",
        "    return w, b"
      ],
      "execution_count": 0,
      "outputs": []
    },
    {
      "cell_type": "markdown",
      "metadata": {
        "colab_type": "text",
        "id": "AW4SEP8kT2ls"
      },
      "source": [
        "## Question 10"
      ]
    },
    {
      "cell_type": "markdown",
      "metadata": {
        "id": "yeN0deOvT81N",
        "colab_type": "text"
      },
      "source": [
        "### Train the model for 100 epochs \n",
        "- Observe the training loss at every iteration"
      ]
    },
    {
      "cell_type": "code",
      "metadata": {
        "id": "Jjkn4gUgLevE",
        "colab_type": "code",
        "colab": {
          "base_uri": "https://localhost:8080/",
          "height": 1000
        },
        "outputId": "7b9c111d-fbf7-4482-b0a5-75fcb8957ad6"
      },
      "source": [
        "for i in range(100):\n",
        "    \n",
        "    w, b = train(price_X, price_y, w, b, learning_rate=0.01)\n",
        "    print('Current Loss on iteration', i, \n",
        "          loss(price_y, prediction(price_X, w, b)).numpy())"
      ],
      "execution_count": 140,
      "outputs": [
        {
          "output_type": "stream",
          "text": [
            "Current Loss on iteration 0 236.16759\n",
            "Current Loss on iteration 1 235.09299\n",
            "Current Loss on iteration 2 234.06102\n",
            "Current Loss on iteration 3 233.06998\n",
            "Current Loss on iteration 4 232.11781\n",
            "Current Loss on iteration 5 231.20381\n",
            "Current Loss on iteration 6 230.32585\n",
            "Current Loss on iteration 7 229.48265\n",
            "Current Loss on iteration 8 228.67297\n",
            "Current Loss on iteration 9 227.89539\n",
            "Current Loss on iteration 10 227.14832\n",
            "Current Loss on iteration 11 226.43114\n",
            "Current Loss on iteration 12 225.74234\n",
            "Current Loss on iteration 13 225.0808\n",
            "Current Loss on iteration 14 224.44553\n",
            "Current Loss on iteration 15 223.835\n",
            "Current Loss on iteration 16 223.24931\n",
            "Current Loss on iteration 17 222.68655\n",
            "Current Loss on iteration 18 222.14595\n",
            "Current Loss on iteration 19 221.62688\n",
            "Current Loss on iteration 20 221.12842\n",
            "Current Loss on iteration 21 220.6498\n",
            "Current Loss on iteration 22 220.18993\n",
            "Current Loss on iteration 23 219.74841\n",
            "Current Loss on iteration 24 219.32425\n",
            "Current Loss on iteration 25 218.91705\n",
            "Current Loss on iteration 26 218.52579\n",
            "Current Loss on iteration 27 218.15027\n",
            "Current Loss on iteration 28 217.78957\n",
            "Current Loss on iteration 29 217.44315\n",
            "Current Loss on iteration 30 217.11034\n",
            "Current Loss on iteration 31 216.79077\n",
            "Current Loss on iteration 32 216.48412\n",
            "Current Loss on iteration 33 216.18932\n",
            "Current Loss on iteration 34 215.90611\n",
            "Current Loss on iteration 35 215.63437\n",
            "Current Loss on iteration 36 215.37334\n",
            "Current Loss on iteration 37 215.12263\n",
            "Current Loss on iteration 38 214.88185\n",
            "Current Loss on iteration 39 214.65053\n",
            "Current Loss on iteration 40 214.42859\n",
            "Current Loss on iteration 41 214.21527\n",
            "Current Loss on iteration 42 214.01044\n",
            "Current Loss on iteration 43 213.81369\n",
            "Current Loss on iteration 44 213.62482\n",
            "Current Loss on iteration 45 213.44333\n",
            "Current Loss on iteration 46 213.2691\n",
            "Current Loss on iteration 47 213.10179\n",
            "Current Loss on iteration 48 212.94106\n",
            "Current Loss on iteration 49 212.78687\n",
            "Current Loss on iteration 50 212.63857\n",
            "Current Loss on iteration 51 212.4961\n",
            "Current Loss on iteration 52 212.35948\n",
            "Current Loss on iteration 53 212.22816\n",
            "Current Loss on iteration 54 212.10205\n",
            "Current Loss on iteration 55 211.98093\n",
            "Current Loss on iteration 56 211.86461\n",
            "Current Loss on iteration 57 211.75293\n",
            "Current Loss on iteration 58 211.64558\n",
            "Current Loss on iteration 59 211.54266\n",
            "Current Loss on iteration 60 211.44374\n",
            "Current Loss on iteration 61 211.34874\n",
            "Current Loss on iteration 62 211.2575\n",
            "Current Loss on iteration 63 211.16982\n",
            "Current Loss on iteration 64 211.08572\n",
            "Current Loss on iteration 65 211.00484\n",
            "Current Loss on iteration 66 210.92729\n",
            "Current Loss on iteration 67 210.85278\n",
            "Current Loss on iteration 68 210.78104\n",
            "Current Loss on iteration 69 210.71225\n",
            "Current Loss on iteration 70 210.64633\n",
            "Current Loss on iteration 71 210.58289\n",
            "Current Loss on iteration 72 210.52199\n",
            "Current Loss on iteration 73 210.46347\n",
            "Current Loss on iteration 74 210.4073\n",
            "Current Loss on iteration 75 210.3533\n",
            "Current Loss on iteration 76 210.30153\n",
            "Current Loss on iteration 77 210.2518\n",
            "Current Loss on iteration 78 210.204\n",
            "Current Loss on iteration 79 210.15811\n",
            "Current Loss on iteration 80 210.1141\n",
            "Current Loss on iteration 81 210.0717\n",
            "Current Loss on iteration 82 210.03108\n",
            "Current Loss on iteration 83 209.99205\n",
            "Current Loss on iteration 84 209.95453\n",
            "Current Loss on iteration 85 209.91852\n",
            "Current Loss on iteration 86 209.88396\n",
            "Current Loss on iteration 87 209.85075\n",
            "Current Loss on iteration 88 209.81891\n",
            "Current Loss on iteration 89 209.78818\n",
            "Current Loss on iteration 90 209.75874\n",
            "Current Loss on iteration 91 209.73053\n",
            "Current Loss on iteration 92 209.70349\n",
            "Current Loss on iteration 93 209.67744\n",
            "Current Loss on iteration 94 209.65225\n",
            "Current Loss on iteration 95 209.62833\n",
            "Current Loss on iteration 96 209.6052\n",
            "Current Loss on iteration 97 209.58302\n",
            "Current Loss on iteration 98 209.56174\n",
            "Current Loss on iteration 99 209.5413\n"
          ],
          "name": "stdout"
        }
      ]
    },
    {
      "cell_type": "markdown",
      "metadata": {
        "id": "vanvD93FV0_k",
        "colab_type": "text"
      },
      "source": [
        "### Observe values of Weight\n",
        "- Print the updated values"
      ]
    },
    {
      "cell_type": "code",
      "metadata": {
        "id": "QSqpy4gtWaOD",
        "colab_type": "code",
        "colab": {
          "base_uri": "https://localhost:8080/",
          "height": 102
        },
        "outputId": "be429e98-5e83-430d-ed21-114f7a27a431"
      },
      "source": [
        "print('Weights:\\n', w.numpy())\n"
      ],
      "execution_count": 141,
      "outputs": [
        {
          "output_type": "stream",
          "text": [
            "Weights:\n",
            " [[0.0547828 ]\n",
            " [0.05488191]\n",
            " [0.05422735]\n",
            " [0.05533117]]\n"
          ],
          "name": "stdout"
        }
      ]
    },
    {
      "cell_type": "markdown",
      "metadata": {
        "colab_type": "text",
        "id": "y9KpRupYUEwy"
      },
      "source": [
        "### Observe values of Bias\n",
        "- Print the updated values"
      ]
    },
    {
      "cell_type": "code",
      "metadata": {
        "colab_type": "code",
        "id": "bhEWkGqHWohg",
        "colab": {
          "base_uri": "https://localhost:8080/",
          "height": 51
        },
        "outputId": "7e58d240-a9fc-4799-c694-1cf5f7939ee6"
      },
      "source": [
        "print('Bias:\\n',b.numpy())"
      ],
      "execution_count": 142,
      "outputs": [
        {
          "output_type": "stream",
          "text": [
            "Bias:\n",
            " [4.607657]\n"
          ],
          "name": "stdout"
        }
      ]
    },
    {
      "cell_type": "code",
      "metadata": {
        "id": "U8vN12gN2BA0",
        "colab_type": "code",
        "colab": {}
      },
      "source": [
        ""
      ],
      "execution_count": 0,
      "outputs": []
    }
  ]
}